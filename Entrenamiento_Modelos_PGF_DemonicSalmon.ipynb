{
  "cells": [
    {
      "cell_type": "markdown",
      "metadata": {
        "id": "view-in-github",
        "colab_type": "text"
      },
      "source": [
        "<a href=\"https://colab.research.google.com/github/miguelvelascop/PFG_Miguel_Velasco_Puig/blob/main/Entrenamiento_Modelos_PGF_DemonicSalmon.ipynb\" target=\"_parent\"><img src=\"https://colab.research.google.com/assets/colab-badge.svg\" alt=\"Open In Colab\"/></a>"
      ]
    },
    {
      "cell_type": "code",
      "execution_count": null,
      "metadata": {
        "id": "xiD2AUt2AjGp"
      },
      "outputs": [],
      "source": [
        "import numpy as np\n",
        "import scipy as sc\n",
        "import sklearn as sk\n",
        "import pandas as pd\n",
        "import matplotlib.pyplot as plt"
      ]
    },
    {
      "cell_type": "markdown",
      "metadata": {
        "id": "78WHWbpOqgfV"
      },
      "source": [
        "En este paso se debe elegir el tipo de etiquetas que se quiere usar dependeniendo del preprocesado realizado (primer bloque para etiquetas binarias, segundo bloque para etiquetas originales)"
      ]
    },
    {
      "cell_type": "code",
      "execution_count": null,
      "metadata": {
        "id": "s5QaIvHAqwpY"
      },
      "outputs": [],
      "source": [
        "dataFileName = \"Dataset_DemonicSalmon_procesado_etiqBinarias.csv\"\n",
        "selectedAverage = 'binary'\n",
        "labels = [0,1]"
      ]
    },
    {
      "cell_type": "code",
      "execution_count": null,
      "metadata": {
        "id": "E1FZDaVcrDvr"
      },
      "outputs": [],
      "source": [
        "dataFileName = \"Dataset_DemonicSalmon_procesado_etiqOriginales.csv\"\n",
        "selectedAverage = 'micro'\n",
        "labels = [0,1,2,3,4,5,6,7,8,9,10,11,12]"
      ]
    },
    {
      "cell_type": "markdown",
      "metadata": {
        "id": "wNRbHaZdutO8"
      },
      "source": [
        "Cargamos el dataset, depresión y no depresión por separado, que previamente he mergeado, ya que estaban separados por pacientes"
      ]
    },
    {
      "cell_type": "code",
      "execution_count": null,
      "metadata": {
        "colab": {
          "base_uri": "https://localhost:8080/",
          "height": 38
        },
        "id": "RLbl4kwBBNwG",
        "outputId": "67c95f93-12a8-4fa2-b63e-f1614571811d"
      },
      "outputs": [
        {
          "output_type": "display_data",
          "data": {
            "text/plain": [
              "<IPython.core.display.HTML object>"
            ],
            "text/html": [
              "\n",
              "     <input type=\"file\" id=\"files-4265ce7b-97f2-48aa-b887-f92cd4a8df65\" name=\"files[]\" multiple disabled\n",
              "        style=\"border:none\" />\n",
              "     <output id=\"result-4265ce7b-97f2-48aa-b887-f92cd4a8df65\">\n",
              "      Upload widget is only available when the cell has been executed in the\n",
              "      current browser session. Please rerun this cell to enable.\n",
              "      </output>\n",
              "      <script>// Copyright 2017 Google LLC\n",
              "//\n",
              "// Licensed under the Apache License, Version 2.0 (the \"License\");\n",
              "// you may not use this file except in compliance with the License.\n",
              "// You may obtain a copy of the License at\n",
              "//\n",
              "//      http://www.apache.org/licenses/LICENSE-2.0\n",
              "//\n",
              "// Unless required by applicable law or agreed to in writing, software\n",
              "// distributed under the License is distributed on an \"AS IS\" BASIS,\n",
              "// WITHOUT WARRANTIES OR CONDITIONS OF ANY KIND, either express or implied.\n",
              "// See the License for the specific language governing permissions and\n",
              "// limitations under the License.\n",
              "\n",
              "/**\n",
              " * @fileoverview Helpers for google.colab Python module.\n",
              " */\n",
              "(function(scope) {\n",
              "function span(text, styleAttributes = {}) {\n",
              "  const element = document.createElement('span');\n",
              "  element.textContent = text;\n",
              "  for (const key of Object.keys(styleAttributes)) {\n",
              "    element.style[key] = styleAttributes[key];\n",
              "  }\n",
              "  return element;\n",
              "}\n",
              "\n",
              "// Max number of bytes which will be uploaded at a time.\n",
              "const MAX_PAYLOAD_SIZE = 100 * 1024;\n",
              "\n",
              "function _uploadFiles(inputId, outputId) {\n",
              "  const steps = uploadFilesStep(inputId, outputId);\n",
              "  const outputElement = document.getElementById(outputId);\n",
              "  // Cache steps on the outputElement to make it available for the next call\n",
              "  // to uploadFilesContinue from Python.\n",
              "  outputElement.steps = steps;\n",
              "\n",
              "  return _uploadFilesContinue(outputId);\n",
              "}\n",
              "\n",
              "// This is roughly an async generator (not supported in the browser yet),\n",
              "// where there are multiple asynchronous steps and the Python side is going\n",
              "// to poll for completion of each step.\n",
              "// This uses a Promise to block the python side on completion of each step,\n",
              "// then passes the result of the previous step as the input to the next step.\n",
              "function _uploadFilesContinue(outputId) {\n",
              "  const outputElement = document.getElementById(outputId);\n",
              "  const steps = outputElement.steps;\n",
              "\n",
              "  const next = steps.next(outputElement.lastPromiseValue);\n",
              "  return Promise.resolve(next.value.promise).then((value) => {\n",
              "    // Cache the last promise value to make it available to the next\n",
              "    // step of the generator.\n",
              "    outputElement.lastPromiseValue = value;\n",
              "    return next.value.response;\n",
              "  });\n",
              "}\n",
              "\n",
              "/**\n",
              " * Generator function which is called between each async step of the upload\n",
              " * process.\n",
              " * @param {string} inputId Element ID of the input file picker element.\n",
              " * @param {string} outputId Element ID of the output display.\n",
              " * @return {!Iterable<!Object>} Iterable of next steps.\n",
              " */\n",
              "function* uploadFilesStep(inputId, outputId) {\n",
              "  const inputElement = document.getElementById(inputId);\n",
              "  inputElement.disabled = false;\n",
              "\n",
              "  const outputElement = document.getElementById(outputId);\n",
              "  outputElement.innerHTML = '';\n",
              "\n",
              "  const pickedPromise = new Promise((resolve) => {\n",
              "    inputElement.addEventListener('change', (e) => {\n",
              "      resolve(e.target.files);\n",
              "    });\n",
              "  });\n",
              "\n",
              "  const cancel = document.createElement('button');\n",
              "  inputElement.parentElement.appendChild(cancel);\n",
              "  cancel.textContent = 'Cancel upload';\n",
              "  const cancelPromise = new Promise((resolve) => {\n",
              "    cancel.onclick = () => {\n",
              "      resolve(null);\n",
              "    };\n",
              "  });\n",
              "\n",
              "  // Wait for the user to pick the files.\n",
              "  const files = yield {\n",
              "    promise: Promise.race([pickedPromise, cancelPromise]),\n",
              "    response: {\n",
              "      action: 'starting',\n",
              "    }\n",
              "  };\n",
              "\n",
              "  cancel.remove();\n",
              "\n",
              "  // Disable the input element since further picks are not allowed.\n",
              "  inputElement.disabled = true;\n",
              "\n",
              "  if (!files) {\n",
              "    return {\n",
              "      response: {\n",
              "        action: 'complete',\n",
              "      }\n",
              "    };\n",
              "  }\n",
              "\n",
              "  for (const file of files) {\n",
              "    const li = document.createElement('li');\n",
              "    li.append(span(file.name, {fontWeight: 'bold'}));\n",
              "    li.append(span(\n",
              "        `(${file.type || 'n/a'}) - ${file.size} bytes, ` +\n",
              "        `last modified: ${\n",
              "            file.lastModifiedDate ? file.lastModifiedDate.toLocaleDateString() :\n",
              "                                    'n/a'} - `));\n",
              "    const percent = span('0% done');\n",
              "    li.appendChild(percent);\n",
              "\n",
              "    outputElement.appendChild(li);\n",
              "\n",
              "    const fileDataPromise = new Promise((resolve) => {\n",
              "      const reader = new FileReader();\n",
              "      reader.onload = (e) => {\n",
              "        resolve(e.target.result);\n",
              "      };\n",
              "      reader.readAsArrayBuffer(file);\n",
              "    });\n",
              "    // Wait for the data to be ready.\n",
              "    let fileData = yield {\n",
              "      promise: fileDataPromise,\n",
              "      response: {\n",
              "        action: 'continue',\n",
              "      }\n",
              "    };\n",
              "\n",
              "    // Use a chunked sending to avoid message size limits. See b/62115660.\n",
              "    let position = 0;\n",
              "    do {\n",
              "      const length = Math.min(fileData.byteLength - position, MAX_PAYLOAD_SIZE);\n",
              "      const chunk = new Uint8Array(fileData, position, length);\n",
              "      position += length;\n",
              "\n",
              "      const base64 = btoa(String.fromCharCode.apply(null, chunk));\n",
              "      yield {\n",
              "        response: {\n",
              "          action: 'append',\n",
              "          file: file.name,\n",
              "          data: base64,\n",
              "        },\n",
              "      };\n",
              "\n",
              "      let percentDone = fileData.byteLength === 0 ?\n",
              "          100 :\n",
              "          Math.round((position / fileData.byteLength) * 100);\n",
              "      percent.textContent = `${percentDone}% done`;\n",
              "\n",
              "    } while (position < fileData.byteLength);\n",
              "  }\n",
              "\n",
              "  // All done.\n",
              "  yield {\n",
              "    response: {\n",
              "      action: 'complete',\n",
              "    }\n",
              "  };\n",
              "}\n",
              "\n",
              "scope.google = scope.google || {};\n",
              "scope.google.colab = scope.google.colab || {};\n",
              "scope.google.colab._files = {\n",
              "  _uploadFiles,\n",
              "  _uploadFilesContinue,\n",
              "};\n",
              "})(self);\n",
              "</script> "
            ]
          },
          "metadata": {}
        }
      ],
      "source": [
        "from google.colab import files\n",
        "depresjon_data = files.upload()\n",
        "\n"
      ]
    },
    {
      "cell_type": "code",
      "execution_count": null,
      "metadata": {
        "id": "ywlrLaTFNFDf"
      },
      "outputs": [],
      "source": [
        "data=pd.read_csv(dataFileName,  sep=',',  comment='#')\n"
      ]
    },
    {
      "cell_type": "markdown",
      "metadata": {
        "id": "Eh8sgLeIz-RI"
      },
      "source": [
        "Pasamos los csv a matrices, quitando los índices\n"
      ]
    },
    {
      "cell_type": "code",
      "execution_count": null,
      "metadata": {
        "id": "_-yuirL8z9yE"
      },
      "outputs": [],
      "source": [
        "demonicSalmon_origin = pd.read_csv(dataFileName,  sep=',',  comment='#').to_numpy()\n"
      ]
    },
    {
      "cell_type": "markdown",
      "metadata": {
        "id": "Z3LrSPvSvZQR"
      },
      "source": [
        "Separamos las etiquetas de los datos"
      ]
    },
    {
      "cell_type": "code",
      "execution_count": null,
      "metadata": {
        "id": "7cbqXMWAwJQ1"
      },
      "outputs": [],
      "source": [
        "demonicSalmon_data = demonicSalmon_origin[:, :-1]\n",
        "demonicSalmon_target = demonicSalmon_origin[:, -1]\n",
        "\n",
        "print(demonicSalmon_data.size)"
      ]
    },
    {
      "cell_type": "markdown",
      "metadata": {
        "id": "YKiPwk8_GK_K"
      },
      "source": [
        "Oversampling SMOTE"
      ]
    },
    {
      "cell_type": "code",
      "execution_count": null,
      "metadata": {
        "id": "GI92p-FIGVBn"
      },
      "outputs": [],
      "source": [
        "from imblearn.over_sampling import SMOTE\n",
        "smote = SMOTE(random_state=50)\n",
        "demonicSalmon_data_resampled, demonicSalmon_target_resampled = smote.fit_resample(demonicSalmon_data, demonicSalmon_target)\n",
        "print(demonicSalmon_data_resampled.size)"
      ]
    },
    {
      "cell_type": "markdown",
      "metadata": {
        "id": "lsCL9CgNgRz2"
      },
      "source": [
        "\n",
        "Normalización"
      ]
    },
    {
      "cell_type": "code",
      "execution_count": null,
      "metadata": {
        "id": "IOSIvBPWgRVO"
      },
      "outputs": [],
      "source": [
        "from sklearn.preprocessing import MinMaxScaler\n",
        "scaler = MinMaxScaler().fit(demonicSalmon_data_resampled)\n",
        "demonicSalmon_data_resampled_rescaled = scaler.transform(demonicSalmon_data_resampled)"
      ]
    },
    {
      "cell_type": "markdown",
      "metadata": {
        "id": "VxtG9HCVOJ2C"
      },
      "source": [
        "Selección de características por filtros\n"
      ]
    },
    {
      "cell_type": "code",
      "execution_count": null,
      "metadata": {
        "id": "BL8E4puAOPu1"
      },
      "outputs": [],
      "source": [
        "from sklearn.feature_selection import SelectKBest\n",
        "from sklearn.feature_selection import chi2\n",
        "\n",
        "selector = SelectKBest(chi2, k=6)\n",
        "\n",
        "print(demonicSalmon_data_resampled_rescaled.shape)\n",
        "demonicSalmon_data_resampled_rescaled = selector.fit_transform(demonicSalmon_data_resampled_rescaled, demonicSalmon_target_resampled)\n",
        "print(selector.get_support(indices=True))\n",
        "print(selector.scores_)\n",
        "print(demonicSalmon_data_resampled_rescaled.shape)"
      ]
    },
    {
      "cell_type": "markdown",
      "metadata": {
        "id": "O8BGqUMrCre4"
      },
      "source": [
        "Separamos los datos en 20/80 para tener un conjunto de entrenamiento y una de prueba"
      ]
    },
    {
      "cell_type": "markdown",
      "metadata": {
        "id": "uIcFnudZBs0L"
      },
      "source": [
        "Separación con oversampling"
      ]
    },
    {
      "cell_type": "code",
      "execution_count": null,
      "metadata": {
        "id": "KAlWbTEOBoeN"
      },
      "outputs": [],
      "source": [
        "from sklearn.model_selection import train_test_split\n",
        "train_demonicSalmon_x, test_demonicSalmon_x, train_demonicSalmon_y, test_demonicSalmon_y = train_test_split(demonicSalmon_data_resampled_rescaled, demonicSalmon_target_resampled, test_size=0.2, random_state=42)"
      ]
    },
    {
      "cell_type": "markdown",
      "metadata": {
        "id": "2FNj5_LADVB9"
      },
      "source": [
        "Probamos los modelos, entrenando (fit) 10 veces los clasificadores para obtener una media"
      ]
    },
    {
      "cell_type": "markdown",
      "metadata": {
        "id": "hRAOj-zxEMaY"
      },
      "source": [
        "Primero importo los modelos que usaremos"
      ]
    },
    {
      "cell_type": "code",
      "execution_count": null,
      "metadata": {
        "id": "84YZm-_NEGOI"
      },
      "outputs": [],
      "source": [
        "from sklearn.neighbors import KNeighborsClassifier as KNN\n",
        "from sklearn.svm import SVC\n",
        "from sklearn.svm import LinearSVC\n",
        "from sklearn.gaussian_process import GaussianProcessClassifier as GPC\n",
        "from sklearn.tree import DecisionTreeClassifier as DTC\n",
        "from sklearn.ensemble import RandomForestClassifier as RFC\n",
        "from sklearn.ensemble import AdaBoostClassifier as ABC\n",
        "from sklearn.naive_bayes import GaussianNB as NB\n",
        "from sklearn.neural_network import MLPClassifier as MLP\n",
        "\n",
        "from sklearn.model_selection import cross_val_score\n",
        "\n",
        "from sklearn.metrics import confusion_matrix, ConfusionMatrixDisplay, accuracy_score, precision_score, recall_score, f1_score\n",
        "\n",
        "from sklearn.model_selection import GridSearchCV"
      ]
    },
    {
      "cell_type": "markdown",
      "metadata": {
        "id": "Cn1LfuSjqtsb"
      },
      "source": [
        "Selección de parámetros KNN"
      ]
    },
    {
      "cell_type": "code",
      "execution_count": null,
      "metadata": {
        "id": "3h2nr65xqzUS"
      },
      "outputs": [],
      "source": [
        "parametros = {'n_neighbors':[1, 10]}\n",
        "knn = KNN()\n",
        "accuracyKNN = []\n",
        "precisionKNN = []\n",
        "recallKNN = []\n",
        "f1KNN = []\n",
        "knn = GridSearchCV(knn, parametros)\n",
        "for i in range(10):\n",
        "  knn.fit(train_demonicSalmon_x, train_demonicSalmon_y)\n",
        "  resultKNN = knn.predict(test_demonicSalmon_x)\n",
        "  accuracyKNN.append(accuracy_score(resultKNN, test_demonicSalmon_y))\n",
        "  precisionKNN.append(precision_score(resultKNN, test_demonicSalmon_y, average=selectedAverage))\n",
        "  recallKNN.append(recall_score(resultKNN, test_demonicSalmon_y, average=selectedAverage))\n",
        "  f1KNN.append(f1_score(resultKNN, test_demonicSalmon_y, average=selectedAverage))"
      ]
    },
    {
      "cell_type": "markdown",
      "metadata": {
        "id": "jjLSFgo_Nt8A"
      },
      "source": [
        "Entrenamiento KNN"
      ]
    },
    {
      "cell_type": "code",
      "execution_count": null,
      "metadata": {
        "id": "N23WyAxqy_yR"
      },
      "outputs": [],
      "source": [
        "resultKNN = knn.fit(train_demonicSalmon_x, train_demonicSalmon_y)\n"
      ]
    },
    {
      "cell_type": "markdown",
      "metadata": {
        "id": "ux60zDBlKU5O"
      },
      "source": [
        "Validación KNN"
      ]
    },
    {
      "cell_type": "code",
      "execution_count": null,
      "metadata": {
        "id": "fmSD_EREJYu4"
      },
      "outputs": [],
      "source": [
        "scoresKNN = cross_val_score(resultKNN, train_demonicSalmon_x, train_demonicSalmon_y, cv=10)\n",
        "print(scoresKNN)"
      ]
    },
    {
      "cell_type": "markdown",
      "metadata": {
        "id": "QPzFwIAl5cJF"
      },
      "source": [
        "Matriz de confusión"
      ]
    },
    {
      "cell_type": "code",
      "execution_count": null,
      "metadata": {
        "id": "kFedJmVsfZo4"
      },
      "outputs": [],
      "source": [
        "y_pred = knn.predict(test_demonicSalmon_x)\n",
        "cm = confusion_matrix(test_demonicSalmon_y, y_pred, labels=labels)\n",
        "disp = ConfusionMatrixDisplay(confusion_matrix=cm)\n",
        "disp.plot()\n",
        "plt.show()"
      ]
    },
    {
      "cell_type": "markdown",
      "metadata": {
        "id": "PPza2S8VKFEH"
      },
      "source": [
        "Clacular média y desviación de KNN"
      ]
    },
    {
      "cell_type": "code",
      "execution_count": null,
      "metadata": {
        "id": "EMXhu1e7yGN3"
      },
      "outputs": [],
      "source": [
        "meanAcKNN = np.median(accuracyKNN)\n",
        "stdAcKNN=np.std(accuracyKNN)\n",
        "meanPrKNN = np.median(precisionKNN)\n",
        "stdPrKNN=np.std(precisionKNN)\n",
        "meanReKNN = np.median(recallKNN)\n",
        "stdReKNN=np.std(recallKNN)\n",
        "meanF1KNN = np.median(f1KNN)\n",
        "stdF1KNN=np.std(f1KNN)"
      ]
    },
    {
      "cell_type": "markdown",
      "metadata": {
        "id": "jVLNouxf5Mhu"
      },
      "source": [
        "Selección de parámetros SVC"
      ]
    },
    {
      "cell_type": "code",
      "execution_count": null,
      "metadata": {
        "id": "vSov0Yha5Ls9"
      },
      "outputs": [],
      "source": [
        "parametros = {'kernel': ('linear', 'rbf'),'C': [1, 10, 100]}\n",
        "svm = SVC()\n",
        "accuracySVC = []\n",
        "precisionSVC = []\n",
        "recallSVC = []\n",
        "f1SVC = []\n",
        "svm = GridSearchCV(svm, parametros)\n",
        "for i in range(10):\n",
        "  svm.fit(train_demonicSalmon_x, train_demonicSalmon_y)\n",
        "  resultSVC = svm.predict(test_demonicSalmon_x)\n",
        "  accuracySVC.append(accuracy_score(resultSVC, test_demonicSalmon_y))\n",
        "  precisionSVC.append(precision_score(resultSVC, test_demonicSalmon_y,average=selectedAverage))\n",
        "  recallSVC.append(recall_score(resultSVC, test_demonicSalmon_y,average=selectedAverage))\n",
        "  f1SVC.append(f1_score(resultSVC, test_demonicSalmon_y,average=selectedAverage))"
      ]
    },
    {
      "cell_type": "markdown",
      "metadata": {
        "id": "5u3hLL40Nqt7"
      },
      "source": [
        "Entrenamiento SVM"
      ]
    },
    {
      "cell_type": "code",
      "execution_count": null,
      "metadata": {
        "id": "yW8xMJaOFNm2"
      },
      "outputs": [],
      "source": [
        "resultSVM = svm.fit(train_demonicSalmon_x, train_demonicSalmon_y)"
      ]
    },
    {
      "cell_type": "markdown",
      "metadata": {
        "id": "w2ZtwBTHLaxi"
      },
      "source": [
        "Validación SVM"
      ]
    },
    {
      "cell_type": "code",
      "execution_count": null,
      "metadata": {
        "id": "cz8oER_ULaxi"
      },
      "outputs": [],
      "source": [
        "scoresSVM = cross_val_score(resultSVM, train_demonicSalmon_x, train_demonicSalmon_y, cv=10)\n",
        "print(scoresSVM)"
      ]
    },
    {
      "cell_type": "code",
      "execution_count": null,
      "metadata": {
        "id": "iJRBKP4MFdAV"
      },
      "outputs": [],
      "source": [
        "y_pred = svm.predict(test_demonicSalmon_x)\n",
        "cm = confusion_matrix(test_demonicSalmon_y, y_pred, labels=labels)\n",
        "disp = ConfusionMatrixDisplay(confusion_matrix=cm)\n",
        "disp.plot()\n",
        "plt.show()"
      ]
    },
    {
      "cell_type": "markdown",
      "metadata": {
        "id": "zqfnsDU9Laxi"
      },
      "source": [
        "Média y varianza de SVM"
      ]
    },
    {
      "cell_type": "code",
      "execution_count": null,
      "metadata": {
        "id": "8R1L-LgRzuN4"
      },
      "outputs": [],
      "source": [
        "meanAcSVC = np.median(accuracySVC)\n",
        "stdAcSVC=np.std(accuracySVC)\n",
        "meanPrSVC = np.median(precisionSVC)\n",
        "stdPrSVC=np.std(precisionSVC)\n",
        "meanReSVC = np.median(recallSVC)\n",
        "stdReSVC=np.std(recallSVC)\n",
        "meanF1SVC = np.median(f1SVC)\n",
        "stdF1SVC=np.std(f1SVC)"
      ]
    },
    {
      "cell_type": "markdown",
      "metadata": {
        "id": "exy4xRYq7Sp8"
      },
      "source": [
        "Selección de parámetros linearSVM"
      ]
    },
    {
      "cell_type": "code",
      "execution_count": null,
      "metadata": {
        "id": "bT7RJ3rQ7R7R"
      },
      "outputs": [],
      "source": [
        "parametros = {'loss':('hinge','square_hinge'),'intercept_scaling':[1, 10]}\n",
        "linearSVM = LinearSVC()\n",
        "accuracyLinearSVM = []\n",
        "precisionLinearSVM = []\n",
        "recallLinearSVM = []\n",
        "f1LinearSVM = []\n",
        "linearSVM = GridSearchCV(linearSVM, parametros)\n",
        "for i in range(10):\n",
        "  linearSVM.fit(train_demonicSalmon_x, train_demonicSalmon_y)\n",
        "  resultLinearSVM = linearSVM.predict(test_demonicSalmon_x)\n",
        "  accuracyLinearSVM.append(accuracy_score(resultLinearSVM, test_demonicSalmon_y))\n",
        "  precisionLinearSVM.append(precision_score(resultLinearSVM, test_demonicSalmon_y,average=selectedAverage))\n",
        "  recallLinearSVM.append(recall_score(resultLinearSVM, test_demonicSalmon_y,average=selectedAverage))\n",
        "  f1LinearSVM.append(f1_score(resultLinearSVM, test_demonicSalmon_y,average=selectedAverage))"
      ]
    },
    {
      "cell_type": "markdown",
      "metadata": {
        "id": "CHHWb8cMNMt6"
      },
      "source": [
        "Entrenamiento LinearSVM"
      ]
    },
    {
      "cell_type": "code",
      "execution_count": null,
      "metadata": {
        "id": "gSrBFPaIGmrs"
      },
      "outputs": [],
      "source": [
        "modelSVM = linearSVM.fit(train_demonicSalmon_x, train_demonicSalmon_y)"
      ]
    },
    {
      "cell_type": "markdown",
      "metadata": {
        "id": "65QUajUYNH9L"
      },
      "source": [
        "Validación LinearSVC"
      ]
    },
    {
      "cell_type": "code",
      "execution_count": null,
      "metadata": {
        "id": "LaKzvH0KNH9L"
      },
      "outputs": [],
      "source": [
        "scoresLinearSVM = cross_val_score(modelSVM, train_demonicSalmon_x, train_demonicSalmon_y, cv=10)\n",
        "print(scoresLinearSVM)"
      ]
    },
    {
      "cell_type": "code",
      "execution_count": null,
      "metadata": {
        "id": "ZSUI9uvOHeoC"
      },
      "outputs": [],
      "source": [
        "y_pred = linearSVM.predict(test_demonicSalmon_x)\n",
        "cm = confusion_matrix(test_demonicSalmon_y, y_pred, labels=labels)\n",
        "disp = ConfusionMatrixDisplay(confusion_matrix=cm)\n",
        "disp.plot()\n",
        "plt.show()"
      ]
    },
    {
      "cell_type": "code",
      "execution_count": null,
      "metadata": {
        "id": "JanfjmfT1jkb"
      },
      "outputs": [],
      "source": [
        "meanAcLinearSVM = np.median(accuracyLinearSVM)\n",
        "stdAcLinearSVM=np.std(accuracyLinearSVM)\n",
        "meanPrLinearSVM = np.median(precisionLinearSVM)\n",
        "stdPrLinearSVM=np.std(precisionLinearSVM)\n",
        "meanReLinearSVM = np.median(recallLinearSVM)\n",
        "stdReLinearSVM=np.std(recallLinearSVM)\n",
        "meanF1LinearSVM = np.median(f1LinearSVM)\n",
        "stdF1LinearSVM=np.std(f1LinearSVM)\n",
        "print(meanAcLinearSVM, stdAcLinearSVM,meanPrLinearSVM,stdPrLinearSVM,meanReLinearSVM,stdReLinearSVM,meanF1LinearSVM,stdF1LinearSVM)"
      ]
    },
    {
      "cell_type": "markdown",
      "metadata": {
        "id": "qTWfyC2N8kLr"
      },
      "source": [
        "Selección de parámetros GPC"
      ]
    },
    {
      "cell_type": "code",
      "execution_count": null,
      "metadata": {
        "id": "fCbGUdt58jZt"
      },
      "outputs": [],
      "source": [
        "parametros = {'optimizer':('fmin_l_bfgs_b','callable','None')}\n",
        "gpc = GPC()\n",
        "accuracyGPC = []\n",
        "precisionGPC = []\n",
        "recallGPC = []\n",
        "f1GPC = []\n",
        "gpc = GridSearchCV(gpc, parametros)\n",
        "for i in range(10):\n",
        "  gpc.fit(train_demonicSalmon_x, train_demonicSalmon_y)\n",
        "  resultGPC = gpc.predict(test_demonicSalmon_x)\n",
        "  accuracyGPC.append(accuracy_score(resultGPC, test_demonicSalmon_y))\n",
        "  precisionGPC.append(precision_score(resultGPC, test_demonicSalmon_y, average=selectedAverage))\n",
        "  recallGPC.append(recall_score(resultGPC, test_demonicSalmon_y, average=selectedAverage))\n",
        "  f1GPC.append(f1_score(resultGPC, test_demonicSalmon_y, average=selectedAverage))\n"
      ]
    },
    {
      "cell_type": "markdown",
      "metadata": {
        "id": "NKdJpNtTOi-z"
      },
      "source": [
        "Entrenamiento GPC"
      ]
    },
    {
      "cell_type": "code",
      "execution_count": null,
      "metadata": {
        "id": "LfpBjKCB2WwW"
      },
      "outputs": [],
      "source": [
        "modelGPC = gpc.fit(train_demonicSalmon_x, train_demonicSalmon_y)"
      ]
    },
    {
      "cell_type": "markdown",
      "metadata": {
        "id": "rMAJmPvXOi-2"
      },
      "source": [
        "Validación GPC"
      ]
    },
    {
      "cell_type": "code",
      "execution_count": null,
      "metadata": {
        "id": "79WEudNuOi-3"
      },
      "outputs": [],
      "source": [
        "scoresGPC = cross_val_score(modelGPC, train_demonicSalmon_x, train_demonicSalmon_y, cv=10)\n",
        "print(scoresGPC)"
      ]
    },
    {
      "cell_type": "markdown",
      "metadata": {
        "id": "nw41QzjJ3Oib"
      },
      "source": [
        "Matriz de Confusión"
      ]
    },
    {
      "cell_type": "code",
      "execution_count": null,
      "metadata": {
        "id": "b-SP8Oj83S7s"
      },
      "outputs": [],
      "source": [
        "y_pred = gpc.predict(test_demonicSalmon_x)\n",
        "cm = confusion_matrix(test_demonicSalmon_y, y_pred, labels=labels)\n",
        "disp = ConfusionMatrixDisplay(confusion_matrix=cm)\n",
        "disp.plot()\n",
        "plt.show()"
      ]
    },
    {
      "cell_type": "markdown",
      "metadata": {
        "id": "OxN1iRDfOi-3"
      },
      "source": [
        "Média y varianza de GPC"
      ]
    },
    {
      "cell_type": "code",
      "execution_count": null,
      "metadata": {
        "id": "zLNcF5bm2Z5e"
      },
      "outputs": [],
      "source": [
        "meanAcGPC = np.median(accuracyGPC)\n",
        "stdAcGPC=np.std(accuracyGPC)\n",
        "meanPrGPC = np.median(precisionGPC)\n",
        "stdPrGPC=np.std(precisionGPC)\n",
        "meanReGPC = np.median(recallGPC)\n",
        "stdReGPC=np.std(recallGPC)\n",
        "meanF1GPC = np.median(f1GPC)\n",
        "stdF1GPC=np.std(f1GPC)"
      ]
    },
    {
      "cell_type": "markdown",
      "metadata": {
        "id": "Lp_t_UT4BVpM"
      },
      "source": [
        "Selección de parámetros DTC"
      ]
    },
    {
      "cell_type": "code",
      "execution_count": null,
      "metadata": {
        "id": "b9iQvDU2BV5X"
      },
      "outputs": [],
      "source": [
        "parametros = {'min_samples_split':[1,100],'splitter':('best','random'),'max_features':('auto','sqrt')}\n",
        "accuracyDTC = []\n",
        "precisionDTC = []\n",
        "recallDTC = []\n",
        "f1DTC = []\n",
        "dtc = DTC()\n",
        "dtc = GridSearchCV(dtc, parametros)\n",
        "for i in range(10):\n",
        "  dtc.fit(train_demonicSalmon_x, train_demonicSalmon_y)\n",
        "  resultDTC = dtc.predict(test_demonicSalmon_x)\n",
        "  accuracyDTC.append(accuracy_score(resultDTC, test_demonicSalmon_y))\n",
        "  precisionDTC.append(precision_score(resultDTC, test_demonicSalmon_y, average=selectedAverage))\n",
        "  recallDTC.append(recall_score(resultDTC, test_demonicSalmon_y, average=selectedAverage))\n",
        "  f1DTC.append(f1_score(resultDTC, test_demonicSalmon_y, average=selectedAverage))"
      ]
    },
    {
      "cell_type": "markdown",
      "metadata": {
        "id": "bIqULP8oPmS6"
      },
      "source": [
        "Entrenamiento DTC"
      ]
    },
    {
      "cell_type": "code",
      "execution_count": null,
      "metadata": {
        "id": "NSk3y5sE5ZzZ"
      },
      "outputs": [],
      "source": [
        "resultDTC = dtc.fit(train_demonicSalmon_x, train_demonicSalmon_y)"
      ]
    },
    {
      "cell_type": "markdown",
      "metadata": {
        "id": "62D_9iPoPmS8"
      },
      "source": [
        "Validación DTC"
      ]
    },
    {
      "cell_type": "code",
      "execution_count": null,
      "metadata": {
        "id": "mKBA6h94PmS9"
      },
      "outputs": [],
      "source": [
        "scoresDTC = cross_val_score(resultDTC, train_demonicSalmon_x, train_demonicSalmon_y, cv=10)\n",
        "print(scoresDTC)"
      ]
    },
    {
      "cell_type": "markdown",
      "metadata": {
        "id": "qcfm6Ci_5gzb"
      },
      "source": [
        "Matriz de Confusión"
      ]
    },
    {
      "cell_type": "code",
      "execution_count": null,
      "metadata": {
        "id": "whcyttOw5i8T"
      },
      "outputs": [],
      "source": [
        "y_pred = dtc.predict(test_demonicSalmon_x)\n",
        "cm = confusion_matrix(test_demonicSalmon_y, y_pred, labels=labels)\n",
        "disp = ConfusionMatrixDisplay(confusion_matrix=cm)\n",
        "disp.plot()\n",
        "plt.show()"
      ]
    },
    {
      "cell_type": "markdown",
      "metadata": {
        "id": "PSEzUZHfPmS9"
      },
      "source": [
        "Média y varianza de DTC"
      ]
    },
    {
      "cell_type": "code",
      "execution_count": null,
      "metadata": {
        "id": "PmJA7ATlPmS9"
      },
      "outputs": [],
      "source": [
        "meanAcDTC = np.median(accuracyDTC)\n",
        "stdAcDTC=np.std(accuracyDTC)\n",
        "meanPrDTC = np.median(precisionDTC)\n",
        "stdPrDTC=np.std(precisionDTC)\n",
        "meanReDTC = np.median(recallDTC)\n",
        "stdReDTC=np.std(recallDTC)\n",
        "meanF1DTC = np.median(f1DTC)\n",
        "stdF1DTC=np.std(f1DTC)\n",
        "print(meanAcDTC, stdAcDTC)"
      ]
    },
    {
      "cell_type": "markdown",
      "metadata": {
        "id": "jTvP0biNCcTm"
      },
      "source": [
        "Seleccionar caracteríticas RFC"
      ]
    },
    {
      "cell_type": "code",
      "execution_count": null,
      "metadata": {
        "id": "r-MlZlpkCcb_"
      },
      "outputs": [],
      "source": [
        "parametros = {'criterion':('gini','entropy','log_loss'),'bootstrap':[True, False]}\n",
        "accuracyRFC = []\n",
        "precisionRFC = []\n",
        "recallRFC = []\n",
        "f1RFC = []\n",
        "rfc = RFC()\n",
        "rfc = GridSearchCV(rfc, parametros)\n",
        "for i in range(10):\n",
        "  rfc.fit(train_demonicSalmon_x, train_demonicSalmon_y)\n",
        "  resultRFC = rfc.predict(test_demonicSalmon_x)\n",
        "  accuracyRFC.append(accuracy_score(resultRFC, test_demonicSalmon_y))\n",
        "  precisionRFC.append(precision_score(resultRFC, test_demonicSalmon_y, average=selectedAverage))\n",
        "  recallRFC.append(recall_score(resultRFC, test_demonicSalmon_y, average=selectedAverage))\n",
        "  f1RFC.append(f1_score(resultRFC, test_demonicSalmon_y, average=selectedAverage))"
      ]
    },
    {
      "cell_type": "markdown",
      "metadata": {
        "id": "doiib2fIgZZ1"
      },
      "source": [
        "Entrenamiento RFC"
      ]
    },
    {
      "cell_type": "code",
      "execution_count": null,
      "metadata": {
        "id": "P73m1iML6FL9"
      },
      "outputs": [],
      "source": [
        "resultRFC = rfc.fit(train_demonicSalmon_x, train_demonicSalmon_y)"
      ]
    },
    {
      "cell_type": "markdown",
      "metadata": {
        "id": "wcVwzuCYgZZ3"
      },
      "source": [
        "Validación RFC"
      ]
    },
    {
      "cell_type": "code",
      "execution_count": null,
      "metadata": {
        "id": "gXLW6kJOgZZ3"
      },
      "outputs": [],
      "source": [
        "scoresRFC = cross_val_score(resultRFC, test_demonicSalmon_x, test_demonicSalmon_y, cv=10)\n",
        "print(scoresRFC)"
      ]
    },
    {
      "cell_type": "markdown",
      "metadata": {
        "id": "516cx9oC6Lvb"
      },
      "source": [
        "Matriz de Confusión"
      ]
    },
    {
      "cell_type": "code",
      "execution_count": null,
      "metadata": {
        "id": "6vJ49_296OYx"
      },
      "outputs": [],
      "source": [
        "y_pred = rfc.predict(test_demonicSalmon_x)\n",
        "cm = confusion_matrix(test_demonicSalmon_y, y_pred, labels=labels)\n",
        "disp = ConfusionMatrixDisplay(confusion_matrix=cm)\n",
        "disp.plot()\n",
        "plt.show()"
      ]
    },
    {
      "cell_type": "markdown",
      "metadata": {
        "id": "j0qfb1fwgZZ4"
      },
      "source": [
        "Média y varianza de RFC"
      ]
    },
    {
      "cell_type": "code",
      "execution_count": null,
      "metadata": {
        "id": "il4Lz2swgZZ4"
      },
      "outputs": [],
      "source": [
        "meanAcRFC = np.median(accuracyRFC)\n",
        "stdAcRFC=np.std(accuracyRFC)\n",
        "meanPrRFC = np.median(precisionRFC)\n",
        "stdPrRFC=np.std(precisionRFC)\n",
        "meanReRFC = np.median(recallRFC)\n",
        "stdReRFC=np.std(recallRFC)\n",
        "meanF1RFC = np.median(f1RFC)\n",
        "stdF1RFC=np.std(f1RFC)"
      ]
    },
    {
      "cell_type": "markdown",
      "metadata": {
        "id": "aCrnW43bcNac"
      },
      "source": [
        "Selección de características AdaBoost"
      ]
    },
    {
      "cell_type": "code",
      "execution_count": null,
      "metadata": {
        "id": "2QSzvkHTcNsj"
      },
      "outputs": [],
      "source": [
        "parametros = {'n_estimators':[20, 100],'algorithm':('SAMME', 'SAMME.R'),'learning_rate':[1, 10]}\n",
        "accuracyABC = []\n",
        "precisionABC = []\n",
        "recallABC = []\n",
        "f1ABC = []\n",
        "abc = ABC()\n",
        "abc = GridSearchCV(abc, parametros)\n",
        "for i in range(10):\n",
        "  abc.fit(train_demonicSalmon_x, train_demonicSalmon_y)\n",
        "  resultABC = abc.predict(test_demonicSalmon_x)\n",
        "  accuracyABC.append(accuracy_score(resultABC, test_demonicSalmon_y))\n",
        "  precisionABC.append(precision_score(resultABC, test_demonicSalmon_y, average=selectedAverage))\n",
        "  recallABC.append(recall_score(resultABC, test_demonicSalmon_y, average=selectedAverage))\n",
        "  f1ABC.append(f1_score(resultABC, test_demonicSalmon_y, average=selectedAverage))"
      ]
    },
    {
      "cell_type": "markdown",
      "metadata": {
        "id": "hW7Lx6cw6oj6"
      },
      "source": [
        "Entrenamiento AdaBoost"
      ]
    },
    {
      "cell_type": "code",
      "execution_count": null,
      "metadata": {
        "id": "Q9Em-Vvy6wZD"
      },
      "outputs": [],
      "source": [
        "resultABC = abc.fit(train_demonicSalmon_x, train_demonicSalmon_y)"
      ]
    },
    {
      "cell_type": "markdown",
      "metadata": {
        "id": "DyyoVNLG7DKh"
      },
      "source": [
        "Validación ABC"
      ]
    },
    {
      "cell_type": "code",
      "execution_count": null,
      "metadata": {
        "id": "BMbzxH8f7HAk"
      },
      "outputs": [],
      "source": [
        "scoresABC = cross_val_score(resultABC, test_demonicSalmon_x, test_demonicSalmon_y, cv=10)\n",
        "print(scoresABC)"
      ]
    },
    {
      "cell_type": "markdown",
      "metadata": {
        "id": "yUMy942467th"
      },
      "source": [
        "Matriz de Confusión"
      ]
    },
    {
      "cell_type": "code",
      "execution_count": null,
      "metadata": {
        "id": "Ax0DBg1e6-bf"
      },
      "outputs": [],
      "source": [
        "y_pred = abc.predict(test_demonicSalmon_x)\n",
        "cm = confusion_matrix(test_demonicSalmon_y, y_pred, labels=labels)\n",
        "disp = ConfusionMatrixDisplay(confusion_matrix=cm)\n",
        "disp.plot()\n",
        "plt.show()"
      ]
    },
    {
      "cell_type": "markdown",
      "metadata": {
        "id": "qNMgmzCR7P65"
      },
      "source": [
        "Média y varianza de ABC"
      ]
    },
    {
      "cell_type": "code",
      "execution_count": null,
      "metadata": {
        "id": "4xd1j9s97PWo"
      },
      "outputs": [],
      "source": [
        "meanAcABC = np.median(accuracyABC)\n",
        "stdAcABC=np.std(accuracyABC)\n",
        "meanPrABC = np.median(precisionABC)\n",
        "stdPrABC=np.std(precisionABC)\n",
        "meanReABC = np.median(recallABC)\n",
        "stdReABC=np.std(recallABC)\n",
        "meanF1ABC = np.median(f1ABC)\n",
        "stdF1ABC=np.std(f1ABC)"
      ]
    },
    {
      "cell_type": "markdown",
      "metadata": {
        "id": "5gL3Jr7RlHn5"
      },
      "source": [
        "Selección de parámetros NaiveBayes"
      ]
    },
    {
      "cell_type": "code",
      "execution_count": null,
      "metadata": {
        "id": "7WvAiL5xlHxX"
      },
      "outputs": [],
      "source": [
        "accuracyNB = []\n",
        "precisionNB = []\n",
        "recallNB = []\n",
        "f1NB = []\n",
        "nb = NB()\n",
        "for i in range(10):\n",
        "  nb.fit(train_demonicSalmon_x, train_demonicSalmon_y)\n",
        "  resultNB = nb.predict(test_demonicSalmon_x)\n",
        "  accuracyNB.append(accuracy_score(resultKNN, test_demonicSalmon_y))\n",
        "  precisionNB.append(precision_score(resultKNN, test_demonicSalmon_y, average=selectedAverage))\n",
        "  recallNB.append(recall_score(resultKNN, test_demonicSalmon_y, average=selectedAverage))\n",
        "  f1NB.append(f1_score(resultKNN, test_demonicSalmon_y, average=selectedAverage))"
      ]
    },
    {
      "cell_type": "markdown",
      "metadata": {
        "id": "LKrTWBML7hnS"
      },
      "source": [
        "Entrenamiento GaussianNN"
      ]
    },
    {
      "cell_type": "code",
      "execution_count": null,
      "metadata": {
        "id": "iTGECdbn7j59"
      },
      "outputs": [],
      "source": [
        "resultNB = nb.fit(train_demonicSalmon_x, train_demonicSalmon_y)"
      ]
    },
    {
      "cell_type": "markdown",
      "metadata": {
        "id": "848rS_lQ75ui"
      },
      "source": [
        "Validación NB"
      ]
    },
    {
      "cell_type": "code",
      "execution_count": null,
      "metadata": {
        "id": "x2Hnu4Ra8AKm"
      },
      "outputs": [],
      "source": [
        "scoresNB = cross_val_score(resultNB, test_demonicSalmon_x, test_demonicSalmon_y, cv=10)\n",
        "print(scoresNB)"
      ]
    },
    {
      "cell_type": "markdown",
      "metadata": {
        "id": "HCEa5uQH7waX"
      },
      "source": [
        "Matriz de confusión"
      ]
    },
    {
      "cell_type": "code",
      "execution_count": null,
      "metadata": {
        "id": "uGpZpwPe7yYm"
      },
      "outputs": [],
      "source": [
        "y_pred = nb.predict(test_demonicSalmon_x)\n",
        "cm = confusion_matrix(test_demonicSalmon_y, y_pred, labels=labels)\n",
        "disp = ConfusionMatrixDisplay(confusion_matrix=cm)\n",
        "disp.plot()\n",
        "plt.show()"
      ]
    },
    {
      "cell_type": "markdown",
      "metadata": {
        "id": "wlsDiP4W8FyC"
      },
      "source": [
        "Média y varianza de NB"
      ]
    },
    {
      "cell_type": "code",
      "execution_count": null,
      "metadata": {
        "id": "X5Sn5YRA8KtY"
      },
      "outputs": [],
      "source": [
        "meanAcNB = np.median(accuracyNB)\n",
        "stdAcNB=np.std(accuracyNB)\n",
        "meanPrNB = np.median(precisionNB)\n",
        "stdPrNB=np.std(precisionNB)\n",
        "meanReNB = np.median(recallNB)\n",
        "stdReNB=np.std(recallNB)\n",
        "meanF1NB = np.median(f1NB)\n",
        "stdF1NB=np.std(f1NB)"
      ]
    },
    {
      "cell_type": "markdown",
      "metadata": {
        "id": "0hFNt8EN8Sbm"
      },
      "source": [
        "Entrenamiento Red Neuronal (MLP)"
      ]
    },
    {
      "cell_type": "code",
      "execution_count": null,
      "metadata": {
        "id": "3GtSpI488VSg"
      },
      "outputs": [],
      "source": [
        "mlp = MLP(hidden_layer_sizes=(150,100,50),max_iter=200,activation='relu',solver='adam')\n",
        "accuracyMLP = []\n",
        "precisionMLP = []\n",
        "recallMLP = []\n",
        "f1MLP = []\n",
        "for i in range(10):\n",
        "  mlp.fit(train_demonicSalmon_x, train_demonicSalmon_y)\n",
        "  resultMLP = mlp.predict(test_demonicSalmon_x)\n",
        "  accuracyMLP.append(accuracy_score(resultMLP, test_demonicSalmon_y))\n",
        "  precisionMLP.append(precision_score(resultMLP, test_demonicSalmon_y, average=selectedAverage))\n",
        "  recallMLP.append(recall_score(resultMLP, test_demonicSalmon_y, average=selectedAverage))\n",
        "  f1MLP.append(f1_score(resultMLP, test_demonicSalmon_y, average=selectedAverage))"
      ]
    },
    {
      "cell_type": "code",
      "source": [
        "resultMLP = mlp.fit(train_demonicSalmon_x, train_demonicSalmon_y)"
      ],
      "metadata": {
        "id": "j-RXvZdUwxLw"
      },
      "execution_count": null,
      "outputs": []
    },
    {
      "cell_type": "markdown",
      "metadata": {
        "id": "kcmeBeoz8xDI"
      },
      "source": [
        "Validación MLP"
      ]
    },
    {
      "cell_type": "code",
      "execution_count": null,
      "metadata": {
        "id": "27Y7vedW8wiG",
        "collapsed": true
      },
      "outputs": [],
      "source": [
        "scoresMLP = cross_val_score(resultMLP, test_demonicSalmon_x, test_demonicSalmon_y, cv=10)\n",
        "print(scoresMLP)"
      ]
    },
    {
      "cell_type": "markdown",
      "metadata": {
        "id": "tapY0_DZ8nSN"
      },
      "source": [
        "Matriz de confusión MLP"
      ]
    },
    {
      "cell_type": "code",
      "execution_count": null,
      "metadata": {
        "id": "tEQTz3oK8qUx"
      },
      "outputs": [],
      "source": [
        "y_pred = mlp.predict(test_demonicSalmon_x)\n",
        "cm = confusion_matrix(test_demonicSalmon_y, y_pred, labels=labels)\n",
        "disp = ConfusionMatrixDisplay(confusion_matrix=cm)\n",
        "disp.plot()\n",
        "plt.show()"
      ]
    },
    {
      "cell_type": "markdown",
      "metadata": {
        "id": "htDPwOq4858H"
      },
      "source": [
        "Média y varianza de MLP"
      ]
    },
    {
      "cell_type": "code",
      "execution_count": null,
      "metadata": {
        "id": "qTPbvh7o9A_V"
      },
      "outputs": [],
      "source": [
        "meanMLP=np.median(accuracyMLP)\n",
        "stdMLP=np.std(accuracyMLP)\n",
        "meanAcMLP = np.median(accuracyMLP)\n",
        "stdAcMLP=np.std(accuracyMLP)\n",
        "meanPrMLP = np.median(precisionMLP)\n",
        "stdPrMLP=np.std(precisionMLP)\n",
        "meanReMLP = np.median(recallMLP)\n",
        "stdReMLP=np.std(recallMLP)\n",
        "meanF1MLP = np.median(f1MLP)\n",
        "stdF1MLP=np.std(f1MLP)\n",
        "print(meanAcMLP, stdAcMLP)"
      ]
    },
    {
      "cell_type": "markdown",
      "metadata": {
        "id": "ogw4cJ5-9R6c"
      },
      "source": [
        "Ejecutar el siguiente bloque para ver métricas finales"
      ]
    },
    {
      "cell_type": "code",
      "execution_count": null,
      "metadata": {
        "id": "wkHNvLiT9Twq"
      },
      "outputs": [],
      "source": [
        "print(\"Resultados KNN/ Accuracy: \",meanAcKNN, stdAcKNN, \" Precision\", meanPrKNN, stdPrKNN, \" Recall:\", meanReKNN, stdReKNN, \" F1:\",meanF1KNN, stdF1KNN)\n",
        "print(\"Resultados SVM/ Accuracy: \",meanAcSVC, stdAcSVC,\" Precision\",meanPrSVC, stdPrSVC,\" Recall:\",meanReSVC, stdReSVC,\" F1:\",meanF1SVC, stdF1SVC)\n",
        "print(\"Resultados LSVM/ Accuracy: \",meanAcLinearSVM, stdAcLinearSVM,\" Precision\",meanPrLinearSVM, stdPrLinearSVM,\" Recall:\",meanReLinearSVM, stdReLinearSVM,\" F1:\",meanF1LinearSVM, stdF1LinearSVM)\n",
        "print(\"Resultados GPC/ Accuracy: \",meanAcGPC, stdAcGPC,\" Precision\",meanPrGPC, stdPrGPC,\" Recall:\",meanReGPC, stdReGPC,\" F1:\",meanF1GPC, stdF1GPC)\n",
        "print(\"Resultados DTC/ Accuracy: \",meanAcDTC, stdAcDTC,\" Precision\",meanPrDTC, stdPrDTC,\" Recall:\",meanReDTC, stdReDTC,\" F1:\",meanF1DTC, stdF1DTC)\n",
        "print(\"Resultados RFC/ Accuracy: \",meanAcRFC, stdAcRFC,\" Precision\",meanPrRFC, stdPrRFC,\" Recall:\",meanReRFC, stdReRFC,\" F1:\",meanF1RFC, stdF1RFC)\n",
        "print(\"Resultados AdaBoost/ Accuracy: :\",meanAcABC, stdAcABC,\" Precision\",meanPrABC, stdPrABC,\" Recall:\",meanReABC, stdReABC,\" F1:\",meanF1ABC, stdF1ABC)\n",
        "print(\"Resultados GaussianNN/ Accuracy: \",meanAcNB, stdAcNB,\" Precision\",meanPrNB, stdPrNB,\" Recall:\",meanReNB, stdReNB,\" F1:\",meanF1NB, stdF1NB)\n",
        "print(\"Resultados MLP/ Accuracy: \",meanAcMLP, stdAcMLP,\" Precision\",meanPrMLP, stdPrMLP,\" Recall:\",meanReMLP, stdReMLP,\" F1:\",meanF1MLP, stdF1MLP)"
      ]
    }
  ],
  "metadata": {
    "colab": {
      "provenance": [],
      "authorship_tag": "ABX9TyO8Mt+xQZue6l6Ux2YSp+p8",
      "include_colab_link": true
    },
    "kernelspec": {
      "display_name": "Python 3",
      "name": "python3"
    },
    "language_info": {
      "name": "python"
    }
  },
  "nbformat": 4,
  "nbformat_minor": 0
}