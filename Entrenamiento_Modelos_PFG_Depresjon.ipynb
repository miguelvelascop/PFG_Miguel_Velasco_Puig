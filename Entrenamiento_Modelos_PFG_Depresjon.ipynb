{
  "cells": [
    {
      "cell_type": "markdown",
      "metadata": {
        "id": "view-in-github",
        "colab_type": "text"
      },
      "source": [
        "<a href=\"https://colab.research.google.com/github/miguelvelascop/PFG_Miguel_Velasco_Puig/blob/main/Entrenamiento_Modelos_PFG_Depresjon.ipynb\" target=\"_parent\"><img src=\"https://colab.research.google.com/assets/colab-badge.svg\" alt=\"Open In Colab\"/></a>"
      ]
    },
    {
      "cell_type": "code",
      "execution_count": null,
      "metadata": {
        "id": "xiD2AUt2AjGp"
      },
      "outputs": [],
      "source": [
        "import numpy as np\n",
        "import scipy as sc\n",
        "import sklearn as sk\n",
        "import pandas as pd\n",
        "import matplotlib.pyplot as plt"
      ]
    },
    {
      "cell_type": "markdown",
      "metadata": {
        "id": "wNRbHaZdutO8"
      },
      "source": [
        "Cargamos el dataset, depresión y no depresión por separado, que previamente he mergeado, ya que estaban separados por pacientes"
      ]
    },
    {
      "cell_type": "code",
      "execution_count": null,
      "metadata": {
        "id": "RLbl4kwBBNwG",
        "collapsed": true
      },
      "outputs": [],
      "source": [
        "from google.colab import files\n",
        "depresjon_data = files.upload()\n",
        "\n"
      ]
    },
    {
      "cell_type": "code",
      "execution_count": null,
      "metadata": {
        "id": "ywlrLaTFNFDf"
      },
      "outputs": [],
      "source": [
        "data=pd.read_csv(\"Dataset_Depresjon_procesado.csv\",  sep=',',  comment='#')"
      ]
    },
    {
      "cell_type": "markdown",
      "metadata": {
        "id": "Eh8sgLeIz-RI"
      },
      "source": [
        "Pasamos los csv a matrices, quitando los índices\n"
      ]
    },
    {
      "cell_type": "code",
      "execution_count": null,
      "metadata": {
        "id": "_-yuirL8z9yE"
      },
      "outputs": [],
      "source": [
        "depresjon_origin = pd.read_csv(\"Dataset_Depresjon_procesado.csv\",  sep=',',  comment='#').to_numpy()"
      ]
    },
    {
      "cell_type": "markdown",
      "metadata": {
        "id": "Z3LrSPvSvZQR"
      },
      "source": [
        "Separar las etiquetas de los datos de entrenamiento"
      ]
    },
    {
      "cell_type": "code",
      "execution_count": null,
      "metadata": {
        "id": "7cbqXMWAwJQ1"
      },
      "outputs": [],
      "source": [
        "depresjon_data = depresjon_origin[:, :-1]\n",
        "depresjon_target = depresjon_origin[:, -1]"
      ]
    },
    {
      "cell_type": "markdown",
      "metadata": {
        "id": "YKiPwk8_GK_K"
      },
      "source": [
        "Oversampling SMOTE"
      ]
    },
    {
      "cell_type": "code",
      "execution_count": null,
      "metadata": {
        "id": "GI92p-FIGVBn"
      },
      "outputs": [],
      "source": [
        "from imblearn.over_sampling import SMOTE\n",
        "smote = SMOTE(random_state=50)\n",
        "depresjon_data_resampled, depresjon_target_resampled = smote.fit_resample(depresjon_data, depresjon_target)\n",
        "print(depresjon_data_resampled.size)"
      ]
    },
    {
      "cell_type": "markdown",
      "metadata": {
        "id": "lsCL9CgNgRz2"
      },
      "source": [
        "Normalización"
      ]
    },
    {
      "cell_type": "code",
      "execution_count": null,
      "metadata": {
        "id": "IOSIvBPWgRVO"
      },
      "outputs": [],
      "source": [
        "from sklearn.preprocessing import MinMaxScaler\n",
        "scaler = MinMaxScaler().fit(depresjon_data_resampled)\n",
        "depresjon_data_resampled_rescaled = scaler.transform(depresjon_data_resampled)"
      ]
    },
    {
      "cell_type": "markdown",
      "source": [
        "Selección de caráccterísticas (no se utiliza posteriormente)"
      ],
      "metadata": {
        "id": "oSfEY3vqifPl"
      }
    },
    {
      "cell_type": "code",
      "source": [
        "from sklearn.feature_selection import SelectKBest\n",
        "from sklearn.feature_selection import chi2\n",
        "\n",
        "selector = SelectKBest(chi2, k=6)\n",
        "\n",
        "print(depresjon_data_resampled_rescaled.shape)\n",
        "test_seleccion_caracteristicas = selector.fit_transform(depresjon_data_resampled_rescaled, depresjon_target_resampled)\n",
        "print(selector.get_support(indices=True))\n",
        "print(selector.scores_)\n",
        "print(test_seleccion_caracteristicas.shape)"
      ],
      "metadata": {
        "id": "x_dHl7taif7I"
      },
      "execution_count": null,
      "outputs": []
    },
    {
      "cell_type": "markdown",
      "metadata": {
        "id": "O8BGqUMrCre4"
      },
      "source": [
        "Separación de los datos en 20/80 para tener un conjunto de entrenamiento y una de prueba"
      ]
    },
    {
      "cell_type": "code",
      "execution_count": null,
      "metadata": {
        "id": "KAlWbTEOBoeN"
      },
      "outputs": [],
      "source": [
        "from sklearn.model_selection import train_test_split\n",
        "train_depresjon_x, test_depresjon_x, train_depresjon_y, test_depresjon_y = train_test_split(depresjon_data_resampled_rescaled, depresjon_target_resampled, test_size=0.2, random_state=42)"
      ]
    },
    {
      "cell_type": "markdown",
      "metadata": {
        "id": "hRAOj-zxEMaY"
      },
      "source": [
        "Primero importo los modelos que usaremos"
      ]
    },
    {
      "cell_type": "code",
      "execution_count": null,
      "metadata": {
        "id": "84YZm-_NEGOI"
      },
      "outputs": [],
      "source": [
        "from sklearn.neighbors import KNeighborsClassifier as KNN\n",
        "from sklearn.svm import SVC\n",
        "from sklearn.svm import LinearSVC\n",
        "from sklearn.gaussian_process import GaussianProcessClassifier as GPC\n",
        "from sklearn.tree import DecisionTreeClassifier as DTC\n",
        "from sklearn.ensemble import RandomForestClassifier as RFC\n",
        "from sklearn.ensemble import AdaBoostClassifier as ABC\n",
        "from sklearn.naive_bayes import GaussianNB as NB\n",
        "from sklearn.neural_network import MLPClassifier as MLP\n",
        "\n",
        "from sklearn.model_selection import cross_val_score, cross_val_predict\n",
        "from sklearn.metrics import confusion_matrix, ConfusionMatrixDisplay, accuracy_score, precision_score, recall_score, f1_score\n",
        "\n",
        "from sklearn.model_selection import GridSearchCV"
      ]
    },
    {
      "cell_type": "code",
      "source": [
        "selector = SelectKBest(chi2, k=6)\n",
        "\n",
        "print(train_depresjon_x.shape)\n",
        "demonicSalmon_data = selector.fit_transform(demonicSalmon_data, demonicSalmon_target)\n",
        "print(selector.get_support(indices=True))\n",
        "print(selector.scores_)\n",
        "print(demonicSalmon_data.shape)"
      ],
      "metadata": {
        "id": "IZaD2ZWGYmKr"
      },
      "execution_count": null,
      "outputs": []
    },
    {
      "cell_type": "markdown",
      "metadata": {
        "id": "aSrvSchj0gkB"
      },
      "source": [
        "Selección de parámetros KNN (el entrenamiento, la predicción y la obtención de métricas se realiza 10 veces)"
      ]
    },
    {
      "cell_type": "code",
      "execution_count": null,
      "metadata": {
        "id": "a3F1MLQf0paG"
      },
      "outputs": [],
      "source": [
        "parametros = {'n_neighbors':[1, 10]}\n",
        "knn = KNN()\n",
        "knn = GridSearchCV(knn, parametros)\n",
        "accuracyKNN = []\n",
        "precisionKNN = []\n",
        "recallKNN = []\n",
        "f1KNN = []\n",
        "for i in range(10):\n",
        "  knn.fit(train_depresjon_x, train_depresjon_y)\n",
        "  resultKNN = knn.predict(test_depresjon_x)\n",
        "  accuracyKNN.append(accuracy_score(resultKNN, test_depresjon_y))\n",
        "  precisionKNN.append(precision_score(resultKNN, test_depresjon_y))\n",
        "  recallKNN.append(recall_score(resultKNN, test_depresjon_y))\n",
        "  f1KNN.append(f1_score(resultKNN, test_depresjon_y))"
      ]
    },
    {
      "cell_type": "markdown",
      "metadata": {
        "id": "jjLSFgo_Nt8A"
      },
      "source": [
        "Entrenamiento KNN"
      ]
    },
    {
      "cell_type": "code",
      "execution_count": null,
      "metadata": {
        "id": "N23WyAxqy_yR"
      },
      "outputs": [],
      "source": [
        "resultKNN = knn.fit(train_depresjon_x, train_depresjon_y)\n"
      ]
    },
    {
      "cell_type": "markdown",
      "metadata": {
        "id": "ux60zDBlKU5O"
      },
      "source": [
        "Validación KNN"
      ]
    },
    {
      "cell_type": "code",
      "execution_count": null,
      "metadata": {
        "id": "fmSD_EREJYu4"
      },
      "outputs": [],
      "source": [
        "scoresKNN = cross_val_score(resultKNN, train_depresjon_x, train_depresjon_y, cv=10)\n",
        "print(scoresKNN)"
      ]
    },
    {
      "cell_type": "markdown",
      "metadata": {
        "id": "QPzFwIAl5cJF"
      },
      "source": [
        "Matriz de confusión"
      ]
    },
    {
      "cell_type": "code",
      "execution_count": null,
      "metadata": {
        "id": "kFedJmVsfZo4"
      },
      "outputs": [],
      "source": [
        "y_pred = knn.predict(test_depresjon_x)\n",
        "cm = confusion_matrix(test_depresjon_y, y_pred)\n",
        "disp = ConfusionMatrixDisplay(confusion_matrix=cm)\n",
        "disp.plot()\n",
        "plt.show()"
      ]
    },
    {
      "cell_type": "markdown",
      "metadata": {
        "id": "PPza2S8VKFEH"
      },
      "source": [
        "Média y varianza de KNN"
      ]
    },
    {
      "cell_type": "code",
      "execution_count": null,
      "metadata": {
        "id": "EMXhu1e7yGN3"
      },
      "outputs": [],
      "source": [
        "meanAcKNN = np.median(accuracyKNN)\n",
        "stdAcKNN=np.std(accuracyKNN)\n",
        "meanPrKNN = np.median(precisionKNN)\n",
        "stdPrKNN=np.std(precisionKNN)\n",
        "meanReKNN = np.median(recallKNN)\n",
        "stdReKNN=np.std(recallKNN)\n",
        "meanF1KNN = np.median(f1KNN)\n",
        "stdF1KNN=np.std(f1KNN)"
      ]
    },
    {
      "cell_type": "markdown",
      "metadata": {
        "id": "b_G_QMY41cWC"
      },
      "source": [
        "Selección de parámetros SVC"
      ]
    },
    {
      "cell_type": "code",
      "execution_count": null,
      "metadata": {
        "id": "41ZHDu3L1hMo"
      },
      "outputs": [],
      "source": [
        "parametros = {'kernel': ('linear', 'rbf'),'C': [1, 10, 100]}\n",
        "svm = SVC()\n",
        "accuracySVC = []\n",
        "precisionSVC = []\n",
        "recallSVC = []\n",
        "f1SVC = []\n",
        "svm = GridSearchCV(svm, parametros)\n",
        "for i in range(10):\n",
        "  svm.fit(train_depresjon_x, train_depresjon_y)\n",
        "  resultSVC = svm.predict(test_depresjon_x)\n",
        "  accuracySVC.append(accuracy_score(resultSVC, test_depresjon_y))\n",
        "  precisionSVC.append(precision_score(resultSVC, test_depresjon_y))\n",
        "  recallSVC.append(recall_score(resultSVC, test_depresjon_y))\n",
        "  f1SVC.append(f1_score(resultSVC, test_depresjon_y))"
      ]
    },
    {
      "cell_type": "markdown",
      "metadata": {
        "id": "5u3hLL40Nqt7"
      },
      "source": [
        "Entrenamiento SVM"
      ]
    },
    {
      "cell_type": "code",
      "execution_count": null,
      "metadata": {
        "id": "yW8xMJaOFNm2"
      },
      "outputs": [],
      "source": [
        "resultSVM = svm.fit(train_depresjon_x, train_depresjon_y)"
      ]
    },
    {
      "cell_type": "markdown",
      "metadata": {
        "id": "w2ZtwBTHLaxi"
      },
      "source": [
        "Validación SVM"
      ]
    },
    {
      "cell_type": "code",
      "execution_count": null,
      "metadata": {
        "id": "cz8oER_ULaxi"
      },
      "outputs": [],
      "source": [
        "scoresSVM = cross_val_score(resultSVM, train_depresjon_x, train_depresjon_y, cv=10)\n",
        "print(scoresSVM)"
      ]
    },
    {
      "cell_type": "code",
      "execution_count": null,
      "metadata": {
        "id": "iJRBKP4MFdAV"
      },
      "outputs": [],
      "source": [
        "y_pred = svm.predict(test_depresjon_x)\n",
        "cm = confusion_matrix(test_depresjon_y, y_pred)\n",
        "disp = ConfusionMatrixDisplay(confusion_matrix=cm)\n",
        "disp.plot()\n",
        "plt.show()"
      ]
    },
    {
      "cell_type": "markdown",
      "metadata": {
        "id": "zqfnsDU9Laxi"
      },
      "source": [
        "Média y varianza de SVM"
      ]
    },
    {
      "cell_type": "code",
      "execution_count": null,
      "metadata": {
        "id": "8R1L-LgRzuN4"
      },
      "outputs": [],
      "source": [
        "meanAcSVC = np.median(accuracySVC)\n",
        "stdAcSVC=np.std(accuracySVC)\n",
        "meanPrSVC = np.median(precisionSVC)\n",
        "stdPrSVC=np.std(precisionSVC)\n",
        "meanReSVC = np.median(recallSVC)\n",
        "stdReSVC=np.std(recallSVC)\n",
        "meanF1SVC = np.median(f1SVC)\n",
        "stdF1SVC=np.std(f1SVC)\n",
        "print(meanAcSVC, stdAcSVC)"
      ]
    },
    {
      "cell_type": "markdown",
      "metadata": {
        "id": "D5h-gFyx1n-7"
      },
      "source": [
        "Selección de parámetros linearSVM"
      ]
    },
    {
      "cell_type": "code",
      "execution_count": null,
      "metadata": {
        "id": "UmPzcTfH1mRW"
      },
      "outputs": [],
      "source": [
        "parametros = {'C': [1, 10], 'penalty':('l1','l2'),'loss':('hinge','square_hinge'),'intercept_scaling':[1, 10]}\n",
        "linearSVM = LinearSVC()\n",
        "accuracyLinearSVM = []\n",
        "precisionLinearSVM = []\n",
        "recallLinearSVM = []\n",
        "f1LinearSVM = []\n",
        "linearSVM = GridSearchCV(linearSVM, parametros)\n",
        "for i in range(10):\n",
        "  linearSVM.fit(train_depresjon_x, train_depresjon_y)\n",
        "  resultLinearSVM = linearSVM.predict(test_depresjon_x)\n",
        "  accuracyLinearSVM.append(accuracy_score(resultLinearSVM, test_depresjon_y))\n",
        "  precisionLinearSVM.append(precision_score(resultLinearSVM, test_depresjon_y))\n",
        "  recallLinearSVM.append(recall_score(resultLinearSVM, test_depresjon_y))\n",
        "  f1LinearSVM.append(f1_score(resultLinearSVM, test_depresjon_y))"
      ]
    },
    {
      "cell_type": "markdown",
      "metadata": {
        "id": "CHHWb8cMNMt6"
      },
      "source": [
        "Entrenamiento LinearSVM"
      ]
    },
    {
      "cell_type": "code",
      "execution_count": null,
      "metadata": {
        "id": "gSrBFPaIGmrs"
      },
      "outputs": [],
      "source": [
        "modelSVM = linearSVM.fit(train_depresjon_x, train_depresjon_y)"
      ]
    },
    {
      "cell_type": "markdown",
      "metadata": {
        "id": "65QUajUYNH9L"
      },
      "source": [
        "Validación LinearSVC"
      ]
    },
    {
      "cell_type": "code",
      "execution_count": null,
      "metadata": {
        "id": "LaKzvH0KNH9L",
        "collapsed": true
      },
      "outputs": [],
      "source": [
        "scoresLinearSVM = cross_val_score(modelSVM, train_depresjon_x, train_depresjon_y, cv=10)\n",
        "print(scoresLinearSVM)"
      ]
    },
    {
      "cell_type": "code",
      "execution_count": null,
      "metadata": {
        "id": "ZSUI9uvOHeoC"
      },
      "outputs": [],
      "source": [
        "y_pred = linearSVM.predict(test_depresjon_x)\n",
        "cm = confusion_matrix(test_depresjon_y, y_pred)\n",
        "disp = ConfusionMatrixDisplay(confusion_matrix=cm)\n",
        "disp.plot()\n",
        "plt.show()"
      ]
    },
    {
      "cell_type": "markdown",
      "metadata": {
        "id": "4HLQTsLoNH9L"
      },
      "source": [
        "Média y varianza de LinearSVC"
      ]
    },
    {
      "cell_type": "code",
      "execution_count": null,
      "metadata": {
        "id": "JanfjmfT1jkb"
      },
      "outputs": [],
      "source": [
        "meanAcLinearSVM = np.median(accuracyLinearSVM)\n",
        "stdAcLinearSVM=np.std(accuracyLinearSVM)\n",
        "meanPrLinearSVM = np.median(precisionLinearSVM)\n",
        "stdPrLinearSVM=np.std(precisionLinearSVM)\n",
        "meanReLinearSVM = np.median(recallLinearSVM)\n",
        "stdReLinearSVM=np.std(recallLinearSVM)\n",
        "meanF1LinearSVM = np.median(f1LinearSVM)\n",
        "stdF1LinearSVM=np.std(f1LinearSVM)\n",
        "print(meanAcLinearSVM, stdAcLinearSVM)"
      ]
    },
    {
      "cell_type": "markdown",
      "metadata": {
        "id": "qNuUbkU61_p3"
      },
      "source": [
        "Selección de parámetros GPC"
      ]
    },
    {
      "cell_type": "code",
      "execution_count": null,
      "metadata": {
        "id": "x6xVhxfx2En8",
        "collapsed": true
      },
      "outputs": [],
      "source": [
        "parametros = {'optimizer':('fmin_l_bfgs_b','callable','None')}\n",
        "gpc = GPC()\n",
        "accuracyGPC = []\n",
        "precisionGPC = []\n",
        "recallGPC = []\n",
        "f1GPC = []\n",
        "gpc = GridSearchCV(gpc, parametros)\n",
        "for i in range(10):\n",
        "  gpc.fit(train_depresjon_x, train_depresjon_y)\n",
        "  resultGPC = gpc.predict(test_depresjon_x)\n",
        "  accuracyGPC.append(accuracy_score(resultGPC, test_depresjon_y))\n",
        "  precisionGPC.append(precision_score(resultGPC, test_depresjon_y))\n",
        "  recallGPC.append(recall_score(resultGPC, test_depresjon_y))\n",
        "  f1GPC.append(f1_score(resultGPC, test_depresjon_y))"
      ]
    },
    {
      "cell_type": "markdown",
      "metadata": {
        "id": "NKdJpNtTOi-z"
      },
      "source": [
        "Entrenamiento GPC"
      ]
    },
    {
      "cell_type": "code",
      "execution_count": null,
      "metadata": {
        "id": "LfpBjKCB2WwW"
      },
      "outputs": [],
      "source": [
        "modelGPC = gpc.fit(train_depresjon_x, train_depresjon_y)"
      ]
    },
    {
      "cell_type": "markdown",
      "metadata": {
        "id": "rMAJmPvXOi-2"
      },
      "source": [
        "Validación GPC"
      ]
    },
    {
      "cell_type": "code",
      "execution_count": null,
      "metadata": {
        "id": "79WEudNuOi-3"
      },
      "outputs": [],
      "source": [
        "scoresGPC = cross_val_score(modelGPC, train_depresjon_x, train_depresjon_y, cv=10)\n",
        "print(scoresGPC)"
      ]
    },
    {
      "cell_type": "markdown",
      "metadata": {
        "id": "nw41QzjJ3Oib"
      },
      "source": [
        "Matriz de Confusión"
      ]
    },
    {
      "cell_type": "code",
      "execution_count": null,
      "metadata": {
        "id": "b-SP8Oj83S7s"
      },
      "outputs": [],
      "source": [
        "y_pred = gpc.predict(test_depresjon_x)\n",
        "cm = confusion_matrix(test_depresjon_y, y_pred)\n",
        "disp = ConfusionMatrixDisplay(confusion_matrix=cm)\n",
        "disp.plot()\n",
        "plt.show()"
      ]
    },
    {
      "cell_type": "markdown",
      "metadata": {
        "id": "OxN1iRDfOi-3"
      },
      "source": [
        "Média y varianza de GPC"
      ]
    },
    {
      "cell_type": "code",
      "execution_count": null,
      "metadata": {
        "id": "zLNcF5bm2Z5e"
      },
      "outputs": [],
      "source": [
        "meanAcGPC = np.median(accuracyGPC)\n",
        "stdAcGPC=np.std(accuracyGPC)\n",
        "meanPrGPC = np.median(precisionGPC)\n",
        "stdPrGPC=np.std(precisionGPC)\n",
        "meanReGPC = np.median(recallGPC)\n",
        "stdReGPC=np.std(recallGPC)\n",
        "meanF1GPC = np.median(f1GPC)\n",
        "stdF1GPC=np.std(f1GPC)\n",
        "print(meanAcGPC, stdAcGPC)"
      ]
    },
    {
      "cell_type": "markdown",
      "metadata": {
        "id": "6wARFKti1wzu"
      },
      "source": [
        "Selección de parámetros DTC"
      ]
    },
    {
      "cell_type": "code",
      "execution_count": null,
      "metadata": {
        "id": "i9e5HDrJ2W4P",
        "collapsed": true
      },
      "outputs": [],
      "source": [
        "parametros = {'min_samples_split':[1,100],'splitter':('best','random'),'max_features':('auto','sqrt')}\n",
        "accuracyDTC = []\n",
        "precisionDTC = []\n",
        "recallDTC = []\n",
        "f1DTC = []\n",
        "dtc = DTC()\n",
        "dtc = GridSearchCV(dtc, parametros)\n",
        "for i in range(10):\n",
        "  dtc.fit(train_depresjon_x, train_depresjon_y)\n",
        "  resultDTC = dtc.predict(test_depresjon_x)\n",
        "  accuracyDTC.append(accuracy_score(resultDTC, test_depresjon_y))\n",
        "  precisionDTC.append(precision_score(resultDTC, test_depresjon_y))\n",
        "  recallDTC.append(recall_score(resultDTC, test_depresjon_y))\n",
        "  f1DTC.append(f1_score(resultDTC, test_depresjon_y))"
      ]
    },
    {
      "cell_type": "markdown",
      "metadata": {
        "id": "bIqULP8oPmS6"
      },
      "source": [
        "Entrenamiento DTC"
      ]
    },
    {
      "cell_type": "code",
      "execution_count": null,
      "metadata": {
        "id": "NSk3y5sE5ZzZ"
      },
      "outputs": [],
      "source": [
        "resultDTC = dtc.fit(train_depresjon_x, train_depresjon_y)"
      ]
    },
    {
      "cell_type": "markdown",
      "metadata": {
        "id": "62D_9iPoPmS8"
      },
      "source": [
        "Validación DTC"
      ]
    },
    {
      "cell_type": "code",
      "execution_count": null,
      "metadata": {
        "id": "mKBA6h94PmS9"
      },
      "outputs": [],
      "source": [
        "scoresDTC = cross_val_score(resultDTC, train_depresjon_x, train_depresjon_y, cv=10)\n",
        "print(scoresDTC)"
      ]
    },
    {
      "cell_type": "markdown",
      "metadata": {
        "id": "qcfm6Ci_5gzb"
      },
      "source": [
        "Matriz de Confusión"
      ]
    },
    {
      "cell_type": "code",
      "execution_count": null,
      "metadata": {
        "id": "whcyttOw5i8T"
      },
      "outputs": [],
      "source": [
        "y_pred = dtc.predict(test_depresjon_x)\n",
        "cm = confusion_matrix(test_depresjon_y, y_pred)\n",
        "disp = ConfusionMatrixDisplay(confusion_matrix=cm)\n",
        "disp.plot()\n",
        "plt.show()"
      ]
    },
    {
      "cell_type": "markdown",
      "metadata": {
        "id": "PSEzUZHfPmS9"
      },
      "source": [
        "Média y varianza de DTC"
      ]
    },
    {
      "cell_type": "code",
      "execution_count": null,
      "metadata": {
        "id": "PmJA7ATlPmS9"
      },
      "outputs": [],
      "source": [
        "meanAcDTC = np.median(accuracyDTC)\n",
        "stdAcDTC=np.std(accuracyDTC)\n",
        "meanPrDTC = np.median(precisionDTC)\n",
        "stdPrDTC=np.std(precisionDTC)\n",
        "meanReDTC = np.median(recallDTC)\n",
        "stdReDTC=np.std(recallDTC)\n",
        "meanF1DTC = np.median(f1DTC)\n",
        "stdF1DTC=np.std(f1DTC)\n",
        "print(meanAcDTC, stdAcDTC)"
      ]
    },
    {
      "cell_type": "markdown",
      "metadata": {
        "id": "c6B7hE982alO"
      },
      "source": [
        "Seleccionar caracteríticas RFC"
      ]
    },
    {
      "cell_type": "code",
      "execution_count": null,
      "metadata": {
        "id": "S2Qlcl542cN5"
      },
      "outputs": [],
      "source": [
        "parametros = {'criterion':('gini','entropy','log_loss'),'bootstrap':[True, False]}\n",
        "accuracyRFC = []\n",
        "precisionRFC = []\n",
        "recallRFC = []\n",
        "f1RFC = []\n",
        "rfc = RFC()\n",
        "rfc = GridSearchCV(rfc, parametros)\n",
        "for i in range(10):\n",
        "  rfc.fit(train_depresjon_x, train_depresjon_y)\n",
        "  resultRFC = rfc.predict(test_depresjon_x)\n",
        "  accuracyRFC.append(accuracy_score(resultRFC, test_depresjon_y))\n",
        "  precisionRFC.append(precision_score(resultRFC, test_depresjon_y))\n",
        "  recallRFC.append(recall_score(resultRFC, test_depresjon_y))\n",
        "  f1RFC.append(f1_score(resultRFC, test_depresjon_y))"
      ]
    },
    {
      "cell_type": "markdown",
      "metadata": {
        "id": "doiib2fIgZZ1"
      },
      "source": [
        "Entrenamiento RFC"
      ]
    },
    {
      "cell_type": "code",
      "execution_count": null,
      "metadata": {
        "id": "P73m1iML6FL9"
      },
      "outputs": [],
      "source": [
        "resultRFC = rfc.fit(train_depresjon_x, train_depresjon_y)"
      ]
    },
    {
      "cell_type": "markdown",
      "metadata": {
        "id": "wcVwzuCYgZZ3"
      },
      "source": [
        "Validación RFC"
      ]
    },
    {
      "cell_type": "code",
      "execution_count": null,
      "metadata": {
        "id": "gXLW6kJOgZZ3"
      },
      "outputs": [],
      "source": [
        "scoresRFC = cross_val_score(resultRFC, test_depresjon_x, test_depresjon_y, cv=10)\n",
        "print(scoresRFC)"
      ]
    },
    {
      "cell_type": "markdown",
      "metadata": {
        "id": "516cx9oC6Lvb"
      },
      "source": [
        "Matriz de Confusión"
      ]
    },
    {
      "cell_type": "code",
      "execution_count": null,
      "metadata": {
        "id": "6vJ49_296OYx"
      },
      "outputs": [],
      "source": [
        "y_pred = rfc.predict(test_depresjon_x)\n",
        "cm = confusion_matrix(test_depresjon_y, y_pred)\n",
        "disp = ConfusionMatrixDisplay(confusion_matrix=cm)\n",
        "disp.plot()\n",
        "plt.show()"
      ]
    },
    {
      "cell_type": "markdown",
      "metadata": {
        "id": "j0qfb1fwgZZ4"
      },
      "source": [
        "Média y varianza de RFC"
      ]
    },
    {
      "cell_type": "code",
      "execution_count": null,
      "metadata": {
        "id": "il4Lz2swgZZ4"
      },
      "outputs": [],
      "source": [
        "meanAcRFC = np.median(accuracyRFC)\n",
        "stdAcRFC=np.std(accuracyRFC)\n",
        "meanPrRFC = np.median(precisionRFC)\n",
        "stdPrRFC=np.std(precisionRFC)\n",
        "meanReRFC = np.median(recallRFC)\n",
        "stdReRFC=np.std(recallRFC)\n",
        "meanF1RFC = np.median(f1RFC)\n",
        "stdF1RFC=np.std(f1RFC)\n",
        "print(meanAcRFC, stdAcRFC)"
      ]
    },
    {
      "cell_type": "markdown",
      "metadata": {
        "id": "sCCOBuGM2jBE"
      },
      "source": [
        "Selección de características AdaBoost"
      ]
    },
    {
      "cell_type": "code",
      "execution_count": null,
      "metadata": {
        "id": "uAdQ9i0I2jkI",
        "collapsed": true
      },
      "outputs": [],
      "source": [
        "parametros = {'n_estimators':[20, 100],'algorithm':('SAMME', 'SAMME.R'),'learning_rate':[1, 10]}\n",
        "accuracyABC = []\n",
        "precisionABC = []\n",
        "recallABC = []\n",
        "f1ABC = []\n",
        "abc = ABC()\n",
        "abc = GridSearchCV(abc, parametros)\n",
        "for i in range(10):\n",
        "  abc.fit(train_depresjon_x, train_depresjon_y)\n",
        "  resultABC = abc.predict(test_depresjon_x)\n",
        "  accuracyABC.append(accuracy_score(resultABC, test_depresjon_y))\n",
        "  precisionABC.append(precision_score(resultABC, test_depresjon_y))\n",
        "  recallABC.append(recall_score(resultABC, test_depresjon_y))\n",
        "  f1ABC.append(f1_score(resultABC, test_depresjon_y))"
      ]
    },
    {
      "cell_type": "markdown",
      "metadata": {
        "id": "hW7Lx6cw6oj6"
      },
      "source": [
        "Entrenamiento AdaBoost"
      ]
    },
    {
      "cell_type": "code",
      "execution_count": null,
      "metadata": {
        "id": "Q9Em-Vvy6wZD"
      },
      "outputs": [],
      "source": [
        "resultABC = abc.fit(train_depresjon_x, train_depresjon_y)"
      ]
    },
    {
      "cell_type": "markdown",
      "metadata": {
        "id": "DyyoVNLG7DKh"
      },
      "source": [
        "Validación ABC"
      ]
    },
    {
      "cell_type": "code",
      "execution_count": null,
      "metadata": {
        "id": "BMbzxH8f7HAk"
      },
      "outputs": [],
      "source": [
        "scoresABC = cross_val_score(resultABC, test_depresjon_x, test_depresjon_y, cv=10)\n",
        "print(scoresABC)"
      ]
    },
    {
      "cell_type": "markdown",
      "metadata": {
        "id": "yUMy942467th"
      },
      "source": [
        "Matriz de Confusión"
      ]
    },
    {
      "cell_type": "code",
      "execution_count": null,
      "metadata": {
        "id": "Ax0DBg1e6-bf"
      },
      "outputs": [],
      "source": [
        "y_pred = abc.predict(test_depresjon_x)\n",
        "cm = confusion_matrix(test_depresjon_y, y_pred)\n",
        "disp = ConfusionMatrixDisplay(confusion_matrix=cm)\n",
        "disp.plot()\n",
        "plt.show()"
      ]
    },
    {
      "cell_type": "markdown",
      "metadata": {
        "id": "qNMgmzCR7P65"
      },
      "source": [
        "Média y varianza de ABC"
      ]
    },
    {
      "cell_type": "code",
      "execution_count": null,
      "metadata": {
        "id": "4xd1j9s97PWo"
      },
      "outputs": [],
      "source": [
        "meanAcABC = np.median(accuracyABC)\n",
        "stdAcABC=np.std(accuracyABC)\n",
        "meanPrABC = np.median(precisionABC)\n",
        "stdPrABC=np.std(precisionABC)\n",
        "meanReABC = np.median(recallABC)\n",
        "stdReABC=np.std(recallABC)\n",
        "meanF1ABC = np.median(f1ABC)\n",
        "stdF1ABC=np.std(f1ABC)\n",
        "print(meanAcABC, stdAcABC)"
      ]
    },
    {
      "cell_type": "code",
      "source": [
        "nb = NB()\n",
        "accuracyNB = []\n",
        "precisionNB = []\n",
        "recallNB = []\n",
        "f1NB = []\n",
        "for i in range(10):\n",
        "  nb.fit(train_depresjon_x, train_depresjon_y)\n",
        "  resultNB = nb.predict(test_depresjon_x)\n",
        "  accuracyNB.append(accuracy_score(resultNB, test_depresjon_y))\n",
        "  precisionNB.append(precision_score(resultNB, test_depresjon_y))\n",
        "  recallNB.append(recall_score(resultNB, test_depresjon_y))\n",
        "  f1NB.append(f1_score(resultNB, test_depresjon_y))"
      ],
      "metadata": {
        "id": "kXjeOOfGmbDy"
      },
      "execution_count": null,
      "outputs": []
    },
    {
      "cell_type": "markdown",
      "metadata": {
        "id": "LKrTWBML7hnS"
      },
      "source": [
        "Entrenamiento GaussianNN"
      ]
    },
    {
      "cell_type": "code",
      "execution_count": null,
      "metadata": {
        "id": "iTGECdbn7j59"
      },
      "outputs": [],
      "source": [
        "resultNB = nb.fit(train_depresjon_x, train_depresjon_y)"
      ]
    },
    {
      "cell_type": "markdown",
      "metadata": {
        "id": "848rS_lQ75ui"
      },
      "source": [
        "Validación NB"
      ]
    },
    {
      "cell_type": "code",
      "execution_count": null,
      "metadata": {
        "id": "x2Hnu4Ra8AKm"
      },
      "outputs": [],
      "source": [
        "scoresNB = cross_val_score(resultNB, test_depresjon_x, test_depresjon_y, cv=10)\n",
        "print(scoresNB)"
      ]
    },
    {
      "cell_type": "markdown",
      "metadata": {
        "id": "HCEa5uQH7waX"
      },
      "source": [
        "Matriz de confusión"
      ]
    },
    {
      "cell_type": "code",
      "execution_count": null,
      "metadata": {
        "id": "uGpZpwPe7yYm"
      },
      "outputs": [],
      "source": [
        "y_pred = nb.predict(test_depresjon_x)\n",
        "cm = confusion_matrix(test_depresjon_y, y_pred)\n",
        "disp = ConfusionMatrixDisplay(confusion_matrix=cm)\n",
        "disp.plot()\n",
        "plt.show()"
      ]
    },
    {
      "cell_type": "markdown",
      "metadata": {
        "id": "wlsDiP4W8FyC"
      },
      "source": [
        "Média y varianza de NB"
      ]
    },
    {
      "cell_type": "code",
      "execution_count": null,
      "metadata": {
        "id": "X5Sn5YRA8KtY"
      },
      "outputs": [],
      "source": [
        "meanAcNB = np.median(accuracyNB)\n",
        "stdAcNB=np.std(accuracyNB)\n",
        "meanPrNB = np.median(precisionNB)\n",
        "stdPrNB=np.std(precisionNB)\n",
        "meanReNB = np.median(recallNB)\n",
        "stdReNB=np.std(recallNB)\n",
        "meanF1NB = np.median(f1NB)\n",
        "stdF1NB=np.std(f1NB)\n",
        "print(meanAcNB, stdAcNB)"
      ]
    },
    {
      "cell_type": "markdown",
      "metadata": {
        "id": "0hFNt8EN8Sbm"
      },
      "source": [
        "Entrenamiento Red Neuronal (MLP)"
      ]
    },
    {
      "cell_type": "code",
      "execution_count": null,
      "metadata": {
        "id": "3GtSpI488VSg"
      },
      "outputs": [],
      "source": [
        "mlp = MLP(hidden_layer_sizes=(150,100,50),max_iter=300,activation='relu',solver='adam')\n",
        "accuracyMLP = []\n",
        "precisionMLP = []\n",
        "recallMLP = []\n",
        "f1MLP = []\n",
        "for i in range(10):\n",
        "  mlp.fit(train_depresjon_x, train_depresjon_y)\n",
        "  resultMLP = mlp.predict(test_depresjon_x)\n",
        "  accuracyMLP.append(accuracy_score(resultMLP, test_depresjon_y))\n",
        "  precisionMLP.append(precision_score(resultMLP, test_depresjon_y))\n",
        "  recallMLP.append(recall_score(resultMLP, test_depresjon_y))\n",
        "  f1MLP.append(f1_score(resultMLP, test_depresjon_y))"
      ]
    },
    {
      "cell_type": "markdown",
      "source": [
        "Entrenamiento MLP"
      ],
      "metadata": {
        "id": "rnZQ7NAYsN4S"
      }
    },
    {
      "cell_type": "code",
      "source": [
        "resultMLP = mlp.fit(train_depresjon_x, train_depresjon_y)"
      ],
      "metadata": {
        "id": "-MqK-vT2sORH"
      },
      "execution_count": null,
      "outputs": []
    },
    {
      "cell_type": "markdown",
      "metadata": {
        "id": "kcmeBeoz8xDI"
      },
      "source": [
        "Validación MLP"
      ]
    },
    {
      "cell_type": "code",
      "execution_count": null,
      "metadata": {
        "id": "27Y7vedW8wiG",
        "collapsed": true
      },
      "outputs": [],
      "source": [
        "scoresMLP = cross_val_score(resultMLP, test_depresjon_x, test_depresjon_y, cv=10)\n",
        "print(scoresMLP)"
      ]
    },
    {
      "cell_type": "markdown",
      "metadata": {
        "id": "tapY0_DZ8nSN"
      },
      "source": [
        "Matriz de confusión MLP"
      ]
    },
    {
      "cell_type": "code",
      "execution_count": null,
      "metadata": {
        "id": "tEQTz3oK8qUx"
      },
      "outputs": [],
      "source": [
        "y_pred = mlp.predict(test_depresjon_x)\n",
        "cm = confusion_matrix(test_depresjon_y, y_pred)\n",
        "disp = ConfusionMatrixDisplay(confusion_matrix=cm)\n",
        "disp.plot()\n",
        "plt.show()"
      ]
    },
    {
      "cell_type": "markdown",
      "metadata": {
        "id": "htDPwOq4858H"
      },
      "source": [
        "Média y varianza de MLP"
      ]
    },
    {
      "cell_type": "code",
      "execution_count": null,
      "metadata": {
        "id": "qTPbvh7o9A_V"
      },
      "outputs": [],
      "source": [
        "meanMLP=np.median(accuracyMLP)\n",
        "stdMLP=np.std(accuracyMLP)\n",
        "meanAcMLP = np.median(accuracyMLP)\n",
        "stdAcMLP=np.std(accuracyMLP)\n",
        "meanPrMLP = np.median(precisionMLP)\n",
        "stdPrMLP=np.std(precisionMLP)\n",
        "meanReMLP = np.median(recallMLP)\n",
        "stdReMLP=np.std(recallMLP)\n",
        "meanF1MLP = np.median(f1MLP)\n",
        "stdF1MLP=np.std(f1MLP)\n",
        "print(meanAcMLP, stdAcMLP)"
      ]
    },
    {
      "cell_type": "markdown",
      "metadata": {
        "id": "ogw4cJ5-9R6c"
      },
      "source": [
        "Comparación final"
      ]
    },
    {
      "cell_type": "code",
      "execution_count": null,
      "metadata": {
        "id": "wkHNvLiT9Twq",
        "collapsed": true
      },
      "outputs": [],
      "source": [
        "print(\"Resultados KNN/ Accuracy: \",meanAcKNN, stdAcKNN, \" Precision\", meanPrKNN, stdPrKNN, \" Recall:\", meanReKNN, stdReKNN, \" F1:\",meanF1KNN, stdF1KNN)\n",
        "print(\"Resultados SVM/ Accuracy: \",meanAcSVC, stdAcSVC,\" Precision\",meanPrSVC, stdPrSVC,\" Recall:\",meanReSVC, stdReSVC,\" F1:\",meanF1SVC, stdF1SVC)\n",
        "print(\"Resultados LSVM/ Accuracy: \",meanAcLinearSVM, stdAcLinearSVM,\" Precision\",meanPrLinearSVM, stdPrLinearSVM,\" Recall:\",meanReLinearSVM, stdReLinearSVM,\" F1:\",meanF1LinearSVM, stdF1LinearSVM)\n",
        "print(\"Resultados GPC/ Accuracy: \",meanAcGPC, stdAcGPC,\" Precision\",meanPrGPC, stdPrGPC,\" Recall:\",meanReGPC, stdReGPC,\" F1:\",meanF1GPC, stdF1GPC)\n",
        "print(\"Resultados DTC/ Accuracy: \",meanAcDTC, stdAcDTC,\" Precision\",meanPrDTC, stdPrDTC,\" Recall:\",meanReDTC, stdReDTC,\" F1:\",meanF1DTC, stdF1DTC)\n",
        "print(\"Resultados RFC/ Accuracy: \",meanAcRFC, stdAcRFC,\" Precision\",meanPrRFC, stdPrRFC,\" Recall:\",meanReRFC, stdReRFC,\" F1:\",meanF1RFC, stdF1RFC)\n",
        "print(\"Resultados AdaBoost/ Accuracy: :\",meanAcABC, stdAcABC,\" Precision\",meanPrABC, stdPrABC,\" Recall:\",meanReABC, stdReABC,\" F1:\",meanF1ABC, stdF1ABC)\n",
        "print(\"Resultados GaussianNB/ Accuracy: \",meanAcNB, stdAcNB,\" Precision\",meanPrNB, stdPrNB,\" Recall:\",meanReNB, stdReNB,\" F1:\",meanF1NB, stdF1NB)\n",
        "print(\"Resultados MLP/ Accuracy: \",meanAcMLP, stdAcMLP,\" Precision\",meanPrMLP, stdPrMLP,\" Recall:\",meanReMLP, stdReMLP,\" F1:\",meanF1MLP, stdF1MLP)"
      ]
    }
  ],
  "metadata": {
    "colab": {
      "provenance": [],
      "authorship_tag": "ABX9TyOANqK0UU+iybWE0JES2NfI",
      "include_colab_link": true
    },
    "kernelspec": {
      "display_name": "Python 3",
      "name": "python3"
    },
    "language_info": {
      "name": "python"
    }
  },
  "nbformat": 4,
  "nbformat_minor": 0
}